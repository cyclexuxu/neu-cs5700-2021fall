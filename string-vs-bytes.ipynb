{
 "cells": [
  {
   "cell_type": "markdown",
   "metadata": {},
   "source": [
    "# String vs. Bytes"
   ]
  },
  {
   "cell_type": "markdown",
   "metadata": {},
   "source": [
    "Test in Python 3 is always unicode and is represented by the **str** type, and binary data is represented by the **bytes** type. They **cannot** be mixed."
   ]
  },
  {
   "cell_type": "markdown",
   "metadata": {},
   "source": [
    "Strings can be **encoded** to bytes, and bytes can be **decoded** back to strings."
   ]
  },
  {
   "cell_type": "code",
   "execution_count": 1,
   "metadata": {},
   "outputs": [
    {
     "name": "stdout",
     "output_type": "stream",
     "text": [
      "Hello world!\n",
      "Length is 12\n"
     ]
    }
   ],
   "source": [
    "s = 'Hello world!'\n",
    "print(s)\n",
    "print(\"Length is\", len(s))"
   ]
  },
  {
   "cell_type": "code",
   "execution_count": 2,
   "metadata": {},
   "outputs": [
    {
     "name": "stdout",
     "output_type": "stream",
     "text": [
      "Hello 世界!\n",
      "Length is 9\n"
     ]
    }
   ],
   "source": [
    "us = 'Hello 世界!'\n",
    "print(us)\n",
    "print(\"Length is\", len(us))"
   ]
  },
  {
   "cell_type": "code",
   "execution_count": 3,
   "metadata": {},
   "outputs": [
    {
     "name": "stdout",
     "output_type": "stream",
     "text": [
      "b'Hello world!'\n",
      "length is 12\n"
     ]
    }
   ],
   "source": [
    "bs = s.encode('utf-8')\n",
    "print(bs)\n",
    "print(\"length is\", len(bs))"
   ]
  },
  {
   "cell_type": "code",
   "execution_count": 4,
   "metadata": {},
   "outputs": [
    {
     "name": "stdout",
     "output_type": "stream",
     "text": [
      "b'Hello \\xe4\\xb8\\x96\\xe7\\x95\\x8c!'\n",
      "length is 13\n"
     ]
    }
   ],
   "source": [
    "bus = us.encode('utf-8')\n",
    "print(bus)\n",
    "print(\"length is\", len(bus))"
   ]
  },
  {
   "cell_type": "code",
   "execution_count": 5,
   "metadata": {},
   "outputs": [
    {
     "name": "stdout",
     "output_type": "stream",
     "text": [
      "Hello world!\n",
      "Hello 世界!\n"
     ]
    }
   ],
   "source": [
    "print(bs.decode('utf-8'))\n",
    "print(bus.decode('utf-8'))"
   ]
  },
  {
   "cell_type": "code",
   "execution_count": null,
   "metadata": {},
   "outputs": [],
   "source": []
  }
 ],
 "metadata": {
  "kernelspec": {
   "display_name": "Python 3",
   "language": "python",
   "name": "python3"
  },
  "language_info": {
   "codemirror_mode": {
    "name": "ipython",
    "version": 3
   },
   "file_extension": ".py",
   "mimetype": "text/x-python",
   "name": "python",
   "nbconvert_exporter": "python",
   "pygments_lexer": "ipython3",
   "version": "3.8.5"
  }
 },
 "nbformat": 4,
 "nbformat_minor": 1
}
