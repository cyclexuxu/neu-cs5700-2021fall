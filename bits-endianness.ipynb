{
 "cells": [
  {
   "cell_type": "markdown",
   "metadata": {
    "collapsed": true
   },
   "source": [
    "# Bit operations"
   ]
  },
  {
   "cell_type": "code",
   "execution_count": 1,
   "metadata": {},
   "outputs": [
    {
     "name": "stdout",
     "output_type": "stream",
     "text": [
      "x: decimal 67, binary 01000011\n"
     ]
    }
   ],
   "source": [
    "x = 67\n",
    "bx = format(x, '08b')\n",
    "print(\"x: decimal {}, binary {}\".format(x, bx))"
   ]
  },
  {
   "cell_type": "code",
   "execution_count": 2,
   "metadata": {},
   "outputs": [
    {
     "name": "stdout",
     "output_type": "stream",
     "text": [
      "y: decimal 11, binary 00001011\n"
     ]
    }
   ],
   "source": [
    "y = 11\n",
    "by = format(y, '08b')\n",
    "print('y: decimal {}, binary {}'.format(y, by))"
   ]
  },
  {
   "cell_type": "code",
   "execution_count": 3,
   "metadata": {},
   "outputs": [
    {
     "name": "stdout",
     "output_type": "stream",
     "text": [
      "x & y: decimal 3, binary 00000011\n"
     ]
    }
   ],
   "source": [
    "z = x & y\n",
    "bz = format(z, '08b')\n",
    "print('x & y: decimal {}, binary {}'.format(z, bz))"
   ]
  },
  {
   "cell_type": "code",
   "execution_count": 4,
   "metadata": {},
   "outputs": [
    {
     "name": "stdout",
     "output_type": "stream",
     "text": [
      "x | y: decimal 75, binary 01001011\n"
     ]
    }
   ],
   "source": [
    "z = x | y\n",
    "bz = format(z, '08b')\n",
    "print('x | y: decimal {}, binary {}'.format(z, bz))"
   ]
  },
  {
   "cell_type": "code",
   "execution_count": 5,
   "metadata": {},
   "outputs": [
    {
     "name": "stdout",
     "output_type": "stream",
     "text": [
      "~x: decimal -68, binary -1000100\n"
     ]
    }
   ],
   "source": [
    "z = ~x\n",
    "bz = format(z, '08b')\n",
    "print('~x: decimal {}, binary {}'.format(z, bz))"
   ]
  },
  {
   "cell_type": "code",
   "execution_count": 6,
   "metadata": {},
   "outputs": [
    {
     "name": "stdout",
     "output_type": "stream",
     "text": [
      "x ^ y: decimal 72, binary 01001000\n"
     ]
    }
   ],
   "source": [
    "z = x ^ y\n",
    "bz = format(z, '08b')\n",
    "print('x ^ y: decimal {}, binary {}'.format(z, bz))"
   ]
  },
  {
   "cell_type": "code",
   "execution_count": 7,
   "metadata": {},
   "outputs": [
    {
     "name": "stdout",
     "output_type": "stream",
     "text": [
      "x << 1: decimal 134, binary 10000110\n"
     ]
    }
   ],
   "source": [
    "z = x << 1\n",
    "bz = format(z, '08b')\n",
    "print('x << 1: decimal {}, binary {}'.format(z, bz))"
   ]
  },
  {
   "cell_type": "code",
   "execution_count": 8,
   "metadata": {},
   "outputs": [
    {
     "name": "stdout",
     "output_type": "stream",
     "text": [
      "x >> 1: decimal 33, binary 00100001\n"
     ]
    }
   ],
   "source": [
    "z = x >> 1\n",
    "bz = format(z, '08b')\n",
    "print('x >> 1: decimal {}, binary {}'.format(z, bz))"
   ]
  },
  {
   "cell_type": "markdown",
   "metadata": {},
   "source": [
    "# Hexadecimal"
   ]
  },
  {
   "cell_type": "markdown",
   "metadata": {},
   "source": [
    "0,1,...,9,A,B,C,D,E,F\n",
    "\n",
    "- 0 => 0000\n",
    "- 1 => 0001\n",
    "- ...\n",
    "- A => 1010\n",
    "- ...\n",
    "- F => 1111"
   ]
  },
  {
   "cell_type": "code",
   "execution_count": 9,
   "metadata": {},
   "outputs": [
    {
     "name": "stdout",
     "output_type": "stream",
     "text": [
      "x: binary 0b1000011, hex 0x43\n"
     ]
    }
   ],
   "source": [
    "x = 67\n",
    "bx = format(x, '#08b')\n",
    "hx = format(x, '#02x')\n",
    "print(\"x: binary {}, hex {}\".format(bx, hx))"
   ]
  },
  {
   "cell_type": "code",
   "execution_count": 10,
   "metadata": {},
   "outputs": [
    {
     "name": "stdout",
     "output_type": "stream",
     "text": [
      "y: binary 0b1001011, hex 0x4b\n"
     ]
    }
   ],
   "source": [
    "y = 75\n",
    "by = format(y, '#08b')\n",
    "hy = format(y, '#02x')\n",
    "print(\"y: binary {}, hex {}\".format(by, hy))"
   ]
  },
  {
   "cell_type": "markdown",
   "metadata": {
    "collapsed": true
   },
   "source": [
    "# Big endian vs little endian"
   ]
  },
  {
   "cell_type": "code",
   "execution_count": 11,
   "metadata": {},
   "outputs": [
    {
     "name": "stdout",
     "output_type": "stream",
     "text": [
      "0000000100000010\n"
     ]
    }
   ],
   "source": [
    "num = 258\n",
    "print(format(num, '016b'))"
   ]
  },
  {
   "cell_type": "code",
   "execution_count": 12,
   "metadata": {},
   "outputs": [
    {
     "name": "stdout",
     "output_type": "stream",
     "text": [
      "b'\\x01\\x02'\n",
      "b'\\x02\\x01'\n"
     ]
    }
   ],
   "source": [
    "print(num.to_bytes(2, 'big'))\n",
    "print(num.to_bytes(2, 'little'))"
   ]
  },
  {
   "cell_type": "code",
   "execution_count": 13,
   "metadata": {},
   "outputs": [
    {
     "name": "stdout",
     "output_type": "stream",
     "text": [
      "b'\\x00\\x00\\x01\\x02'\n",
      "b'\\x02\\x01\\x00\\x00'\n"
     ]
    }
   ],
   "source": [
    "print(num.to_bytes(4, 'big'))\n",
    "print(num.to_bytes(4, 'little'))"
   ]
  },
  {
   "cell_type": "code",
   "execution_count": null,
   "metadata": {},
   "outputs": [],
   "source": []
  }
 ],
 "metadata": {
  "kernelspec": {
   "display_name": "Python 3",
   "language": "python",
   "name": "python3"
  },
  "language_info": {
   "codemirror_mode": {
    "name": "ipython",
    "version": 3
   },
   "file_extension": ".py",
   "mimetype": "text/x-python",
   "name": "python",
   "nbconvert_exporter": "python",
   "pygments_lexer": "ipython3",
   "version": "3.8.5"
  }
 },
 "nbformat": 4,
 "nbformat_minor": 1
}
